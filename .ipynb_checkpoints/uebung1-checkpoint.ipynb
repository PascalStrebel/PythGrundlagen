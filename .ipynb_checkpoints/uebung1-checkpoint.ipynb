{
 "cells": [
  {
   "cell_type": "markdown",
   "metadata": {},
   "source": [
    "# Python-Grundlagen und Anwendung in Data Science"
   ]
  },
  {
   "cell_type": "markdown",
   "metadata": {},
   "source": [
    "## Introduction to Tools"
   ]
  },
  {
   "cell_type": "markdown",
   "metadata": {},
   "source": [
    "##### The exercises are in parts inspired by:\n",
    "##### Ernesti, J. & Kaiser, P. (2017). Python 3. 5. Auflage. Bonn: Reinwerk Computing. ISBN 978-3-8362-5864-7."
   ]
  },
  {
   "cell_type": "markdown",
   "metadata": {},
   "source": [
    "### 0. Print"
   ]
  },
  {
   "cell_type": "code",
   "execution_count": 39,
   "metadata": {},
   "outputs": [
    {
     "name": "stdout",
     "output_type": "stream",
     "text": [
      "Hello World!\n"
     ]
    }
   ],
   "source": [
    "print(\"Hello World!\")"
   ]
  },
  {
   "cell_type": "markdown",
   "metadata": {},
   "source": [
    "### 1. Datatypes"
   ]
  },
  {
   "cell_type": "markdown",
   "metadata": {},
   "source": [
    "#### 1.1 Integer"
   ]
  },
  {
   "cell_type": "code",
   "execution_count": 40,
   "metadata": {},
   "outputs": [
    {
     "data": {
      "text/plain": [
       "202.0"
      ]
     },
     "execution_count": 40,
     "metadata": {},
     "output_type": "execute_result"
    }
   ],
   "source": [
    "(20*5) + (10/5) + 100"
   ]
  },
  {
   "cell_type": "markdown",
   "metadata": {},
   "source": [
    "#### 1.2 Floating-point number"
   ]
  },
  {
   "cell_type": "code",
   "execution_count": 41,
   "metadata": {},
   "outputs": [
    {
     "data": {
      "text/plain": [
       "0.3482864307606576"
      ]
     },
     "execution_count": 41,
     "metadata": {},
     "output_type": "execute_result"
    }
   ],
   "source": [
    "2.5/7.178"
   ]
  },
  {
   "cell_type": "markdown",
   "metadata": {},
   "source": [
    "#### 1.3 String"
   ]
  },
  {
   "cell_type": "code",
   "execution_count": 42,
   "metadata": {},
   "outputs": [
    {
     "data": {
      "text/plain": [
       "'Hi! This is my String in Python.'"
      ]
     },
     "execution_count": 42,
     "metadata": {},
     "output_type": "execute_result"
    }
   ],
   "source": [
    "\"Hi! This is my String in Python.\""
   ]
  },
  {
   "cell_type": "markdown",
   "metadata": {},
   "source": [
    "#### 1.4 List"
   ]
  },
  {
   "cell_type": "code",
   "execution_count": 43,
   "metadata": {},
   "outputs": [
    {
     "data": {
      "text/plain": [
       "[1, 2, 3, 4, 5, 6, 7, 8, 9, 10]"
      ]
     },
     "execution_count": 43,
     "metadata": {},
     "output_type": "execute_result"
    }
   ],
   "source": [
    "[1, 2, 3, 4, 5, 6, 7, 8, 9, 10]"
   ]
  },
  {
   "cell_type": "markdown",
   "metadata": {},
   "source": [
    "#### 1.5 Array"
   ]
  },
  {
   "cell_type": "markdown",
   "metadata": {},
   "source": [
    "##### Note: Arrays are not included in Python and need to be imported.\n",
    "##### https://www.programiz.com/python-programming/array"
   ]
  },
  {
   "cell_type": "code",
   "execution_count": 44,
   "metadata": {},
   "outputs": [
    {
     "name": "stdout",
     "output_type": "stream",
     "text": [
      "array('d', [2.0, 3.0, 4.0])\n"
     ]
    }
   ],
   "source": [
    "import array as ar\n",
    "a = ar.array('d', [2, 3, 4])\n",
    "print(a)"
   ]
  },
  {
   "cell_type": "markdown",
   "metadata": {},
   "source": [
    "#### 1.6 Dictionary"
   ]
  },
  {
   "cell_type": "code",
   "execution_count": 45,
   "metadata": {},
   "outputs": [
    {
     "data": {
      "text/plain": [
       "'value1'"
      ]
     },
     "execution_count": 45,
     "metadata": {},
     "output_type": "execute_result"
    }
   ],
   "source": [
    "d = {\"key1\": \"value1\", \"key2\": \"value2\", \"key3\": \"value3\"}\n",
    "d[\"key1\"]"
   ]
  },
  {
   "cell_type": "markdown",
   "metadata": {},
   "source": [
    "### 2. Variables"
   ]
  },
  {
   "cell_type": "markdown",
   "metadata": {},
   "source": [
    "##### Attention: The following words are reserved for Python and can not be used for variable names:\n",
    "##### and, as, assert, async, await, break, class, continue, def, del, elif, else except, False, finally, for, from, global, if, import, in, is, lambda, None, nonlocal, not, or, pass, raise, return, True, try, while, with, yield"
   ]
  },
  {
   "cell_type": "code",
   "execution_count": 46,
   "metadata": {},
   "outputs": [
    {
     "name": "stdout",
     "output_type": "stream",
     "text": [
      "0.3\n",
      "This is my name.\n",
      "[1, 2, 3]\n"
     ]
    }
   ],
   "source": [
    "numbername = 0.5 * 0.6; stringname = \"This is my name.\"; listname = [1, 2, 3]\n",
    "print(numbername); print(stringname); print(listname)"
   ]
  },
  {
   "cell_type": "markdown",
   "metadata": {},
   "source": [
    "### 3. Logical Operations"
   ]
  },
  {
   "cell_type": "code",
   "execution_count": 47,
   "metadata": {},
   "outputs": [
    {
     "data": {
      "text/plain": [
       "False"
      ]
     },
     "execution_count": 47,
     "metadata": {},
     "output_type": "execute_result"
    }
   ],
   "source": [
    "1 == 2; 1 != 2; 1 < 2; 1 > 2; 1 <= 2; 1 >= 2"
   ]
  },
  {
   "cell_type": "code",
   "execution_count": 48,
   "metadata": {},
   "outputs": [
    {
     "data": {
      "text/plain": [
       "True"
      ]
     },
     "execution_count": 48,
     "metadata": {},
     "output_type": "execute_result"
    }
   ],
   "source": [
    "1 == 1 and 2 == 2"
   ]
  },
  {
   "cell_type": "code",
   "execution_count": 49,
   "metadata": {},
   "outputs": [
    {
     "data": {
      "text/plain": [
       "False"
      ]
     },
     "execution_count": 49,
     "metadata": {},
     "output_type": "execute_result"
    }
   ],
   "source": [
    "not (1 == 1)"
   ]
  },
  {
   "cell_type": "code",
   "execution_count": 50,
   "metadata": {},
   "outputs": [
    {
     "data": {
      "text/plain": [
       "True"
      ]
     },
     "execution_count": 50,
     "metadata": {},
     "output_type": "execute_result"
    }
   ],
   "source": [
    "1 == 2 or 2 == 2"
   ]
  },
  {
   "cell_type": "markdown",
   "metadata": {},
   "source": [
    "### 4. Functions & Methods"
   ]
  },
  {
   "cell_type": "code",
   "execution_count": 51,
   "metadata": {},
   "outputs": [
    {
     "data": {
      "text/plain": [
       "76"
      ]
     },
     "execution_count": 51,
     "metadata": {},
     "output_type": "execute_result"
    }
   ],
   "source": [
    "max(34, 76, 12)"
   ]
  },
  {
   "cell_type": "code",
   "execution_count": 52,
   "metadata": {},
   "outputs": [
    {
     "data": {
      "text/plain": [
       "[12, 34, 76]"
      ]
     },
     "execution_count": 52,
     "metadata": {},
     "output_type": "execute_result"
    }
   ],
   "source": [
    "liste = [34, 76, 12]\n",
    "liste.sort()\n",
    "liste"
   ]
  },
  {
   "cell_type": "code",
   "execution_count": 53,
   "metadata": {},
   "outputs": [
    {
     "data": {
      "text/plain": [
       "3"
      ]
     },
     "execution_count": 53,
     "metadata": {},
     "output_type": "execute_result"
    }
   ],
   "source": [
    "\"Hello World\".count(\"l\")"
   ]
  },
  {
   "cell_type": "code",
   "execution_count": 54,
   "metadata": {},
   "outputs": [
    {
     "data": {
      "text/plain": [
       "5"
      ]
     },
     "execution_count": 54,
     "metadata": {},
     "output_type": "execute_result"
    }
   ],
   "source": [
    "len(\"Hello\")"
   ]
  },
  {
   "cell_type": "markdown",
   "metadata": {},
   "source": [
    "### 5. If and Elif"
   ]
  },
  {
   "cell_type": "code",
   "execution_count": 55,
   "metadata": {},
   "outputs": [
    {
     "name": "stdout",
     "output_type": "stream",
     "text": [
      "x is equals 50.\n"
     ]
    }
   ],
   "source": [
    "x = 50\n",
    "\n",
    "if x == 50:\n",
    "    print(\"x is equals 50.\")\n",
    "    \n",
    "elif x == 75:\n",
    "    print(\"x is equals 75.\")\n",
    "    \n",
    "elif x == 100:\n",
    "    print(\"x is equals 100.\")"
   ]
  },
  {
   "cell_type": "markdown",
   "metadata": {},
   "source": [
    "### 6. If and Else"
   ]
  },
  {
   "cell_type": "code",
   "execution_count": 59,
   "metadata": {},
   "outputs": [
    {
     "name": "stdout",
     "output_type": "stream",
     "text": [
      "x is equals 100.\n"
     ]
    }
   ],
   "source": [
    "x = 100\n",
    "\n",
    "if x == 50:\n",
    "    print(\"x is equals 50.\")\n",
    "    \n",
    "elif x == 75:\n",
    "    print(\"x is equals 75.\")\n",
    "    \n",
    "elif x == 100:\n",
    "    print(\"x is equals 100.\")\n",
    "    \n",
    "else:\n",
    "    print(\"x is neither 50, nor 75, nor 100.\")"
   ]
  },
  {
   "cell_type": "markdown",
   "metadata": {},
   "source": [
    "### 7. While loop"
   ]
  },
  {
   "cell_type": "code",
   "execution_count": 63,
   "metadata": {},
   "outputs": [
    {
     "name": "stdout",
     "output_type": "stream",
     "text": [
      "Too low\n",
      "Too low\n"
     ]
    },
    {
     "ename": "ValueError",
     "evalue": "invalid literal for int() with base 10: ''",
     "output_type": "error",
     "traceback": [
      "\u001b[1;31m---------------------------------------------------------------------------\u001b[0m",
      "\u001b[1;31mValueError\u001b[0m                                Traceback (most recent call last)",
      "Input \u001b[1;32mIn [63]\u001b[0m, in \u001b[0;36m<cell line: 5>\u001b[1;34m()\u001b[0m\n\u001b[0;32m      3\u001b[0m counter \u001b[38;5;241m=\u001b[39m \u001b[38;5;241m0\u001b[39m\n\u001b[0;32m      5\u001b[0m \u001b[38;5;28;01mwhile\u001b[39;00m guess \u001b[38;5;241m!=\u001b[39m secret:\n\u001b[1;32m----> 6\u001b[0m     guess \u001b[38;5;241m=\u001b[39m \u001b[38;5;28;43mint\u001b[39;49m\u001b[43m(\u001b[49m\u001b[38;5;28;43minput\u001b[39;49m\u001b[43m(\u001b[49m\u001b[38;5;124;43m\"\u001b[39;49m\u001b[38;5;124;43mPlease guess: \u001b[39;49m\u001b[38;5;124;43m\"\u001b[39;49m\u001b[43m)\u001b[49m\u001b[43m)\u001b[49m\n\u001b[0;32m      8\u001b[0m     \u001b[38;5;28;01mif\u001b[39;00m guess \u001b[38;5;241m==\u001b[39m \u001b[38;5;241m0\u001b[39m:\n\u001b[0;32m      9\u001b[0m         \u001b[38;5;28mprint\u001b[39m(\u001b[38;5;124m\"\u001b[39m\u001b[38;5;124mThe game is finished.\u001b[39m\u001b[38;5;124m\"\u001b[39m)\n",
      "\u001b[1;31mValueError\u001b[0m: invalid literal for int() with base 10: ''"
     ]
    }
   ],
   "source": [
    "secret = 1337\n",
    "guess = -1\n",
    "counter = 0\n",
    "\n",
    "while guess != secret:\n",
    "    guess = int(input(\"Please guess: \"))\n",
    "    \n",
    "    if guess == 0:\n",
    "        print(\"The game is finished.\")\n",
    "        break\n",
    "\n",
    "    if guess < secret:\n",
    "        print(\"Too low\")\n",
    "    if guess > secret:\n",
    "        print(\"Too high\")\n",
    "\n",
    "    counter = counter + 1\n",
    "\n",
    "print(\"Congratulations, you made it after \", counter, \"trials!\")"
   ]
  },
  {
   "cell_type": "markdown",
   "metadata": {},
   "source": [
    "### 8. For loop"
   ]
  },
  {
   "cell_type": "code",
   "execution_count": null,
   "metadata": {},
   "outputs": [],
   "source": [
    "while True:\n",
    "    number = int(input(\"Please insert a number: \"))\n",
    "    \n",
    "    if number < 0:\n",
    "        print(\"Negative numbers are not allowed\")\n",
    "        continue\n",
    "\n",
    "    if number == 1000000:\n",
    "        print(\"Game over.\")\n",
    "        break\n",
    "        \n",
    "    result = 1\n",
    "    for i in range(2, number+1):\n",
    "        result = result * i\n",
    "        number = number - 1\n",
    "    print(\"Result: \", result)"
   ]
  },
  {
   "cell_type": "markdown",
   "metadata": {},
   "source": [
    "### 9. Graph with functions"
   ]
  },
  {
   "cell_type": "code",
   "execution_count": 60,
   "metadata": {},
   "outputs": [
    {
     "data": {
      "image/png": "[encoded data removed]",
      "text/plain": [
       "<Figure size 640x480 with 1 Axes>"
      ]
     },
     "metadata": {},
     "output_type": "display_data"
    }
   ],
   "source": [
    "import numpy as np\n",
    "import scipy as sp\n",
    "import matplotlib as mpl\n",
    "import matplotlib.pyplot as plt\n",
    "%matplotlib inline\n",
    "\n",
    "import scipy.misc\n",
    "import scipy.integrate\n",
    "\n",
    "def f(x):\n",
    "    return x**3 - 10*np.sin(x) - 4\n",
    "\n",
    "def df(x):\n",
    "    return sp.misc.derivative(f, x)\n",
    "\n",
    "@np.vectorize\n",
    "def F(x):\n",
    "    return sp.integrate.quad(f, 0, x)[0]\n",
    "\n",
    "\n",
    "X = np.linspace(-3,3, 100)\n",
    "\n",
    "Y = f(X)\n",
    "Y1 = df(X)\n",
    "Y2 = F(X)\n",
    "\n",
    "plt.plot(X, Y, linewidth=2, label=\"$f$\")\n",
    "plt.plot(X, Y1, linewidth=2, linestyle=\"dashed\", label=\"$f'$\")\n",
    "plt.plot(X, Y2, linewidth=2, linestyle=\"dotted\", label=\"$F$\")\n",
    "plt.legend()\n",
    "plt.show()"
   ]
  },
  {
   "cell_type": "markdown",
   "metadata": {},
   "source": [
    "### Exercise"
   ]
  },
  {
   "cell_type": "markdown",
   "metadata": {},
   "source": [
    "##### Please create a game which follows the rules of the provided use case diagram."
   ]
  },
  {
   "cell_type": "code",
   "execution_count": 68,
   "metadata": {},
   "outputs": [
    {
     "name": "stdout",
     "output_type": "stream",
     "text": [
      "Please insert a number: 4\n",
      "Please insert a number: 5\n",
      "4 - 5 = \n",
      "Please type in the correct result of the calculation: -1\n"
     ]
    }
   ],
   "source": [
    "# ----------------------------\n",
    "# ----- Calculation game -----\n",
    "# ----------------------------\n",
    "\n",
    "import operator\n",
    "import random\n",
    "\n",
    "answer = 1\n",
    "solution = 2\n",
    "operators = [('+', operator.add), ('-', operator.sub), ('*', operator.mul)]\n",
    "counter1 = 0\n",
    "\n",
    "while answer != solution:\n",
    "    a = int(input(\"Please insert a number: \"))\n",
    "    b = int(input(\"Please insert a number: \"))\n",
    "\n",
    "    # Please insert the logic for inserting the 1. and 2. numbers.\n",
    "    # Tip: Maybe you would like to add different texts, depending on the previous performance...?\n",
    "    \n",
    "    # Hitting the secret number:    \n",
    "    op, fn = random.choice(operators)\n",
    "    solution = fn(a, b)\n",
    "    \n",
    "    if a in range (9, 12):\n",
    "        print(\"You hit the secret number and won!\")\n",
    "        answer = solution\n",
    "        break\n",
    "    else:\n",
    "        print(\"{} {} {} = \".format(a, op, b))\n",
    "        answer = int(input(\"Please type in the correct result of the calculation: \"))\n",
    "\n",
    "    counter1 = counter1 + 1\n",
    "    \n",
    "    \n",
    "# -------------------------\n",
    "# ----- Guessing game -----\n",
    "# -------------------------\n",
    "\n",
    "# Please insert your solution for the guessing game, which only allows 10 trials.\n",
    "\n",
    "    \n",
    "# -----------------------\n",
    "# ----- End results -----\n",
    "# -----------------------\n",
    "\n",
    "# Please insert the print commands, you would like to use."
   ]
  },
  {
   "cell_type": "code",
   "execution_count": null,
   "metadata": {},
   "outputs": [],
   "source": []
  }
 ],
 "metadata": {
  "kernelspec": {
   "display_name": "Python 3 (ipykernel)",
   "language": "python",
   "name": "python3"
  },
  "language_info": {
   "codemirror_mode": {
    "name": "ipython",
    "version": 3
   },
   "file_extension": ".py",
   "mimetype": "text/x-python",
   "name": "python",
   "nbconvert_exporter": "python",
   "pygments_lexer": "ipython3",
   "version": "3.10.4"
  }
 },
 "nbformat": 4,
 "nbformat_minor": 4
}
